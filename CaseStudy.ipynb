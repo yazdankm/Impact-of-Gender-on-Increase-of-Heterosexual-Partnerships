{
 "cells": [
  {
   "cell_type": "markdown",
   "metadata": {},
   "source": [
    "<h3>Reading the datasets and checking the common columns<h3>"
   ]
  },
  {
   "cell_type": "code",
   "execution_count": 144,
   "metadata": {},
   "outputs": [],
   "source": [
    "import pandas as pd\n",
    "\n",
    "\n",
    "file_path_0 = 'C:\\\\Users\\\\ReDI\\\\Desktop\\\\KreativStorm\\\\Datasets\\\\NSSAL_2000.dta'\n",
    "file_path_10 = 'C:\\\\Users\\\\ReDI\\\\Desktop\\\\KreativStorm\\\\Datasets\\\\NSSAL_2010.dta'\n",
    "\n",
    "\n",
    "df_1 = pd.read_stata(file_path_0)\n",
    "df_2 = pd.read_stata(file_path_10)\n"
   ]
  },
  {
   "cell_type": "markdown",
   "metadata": {},
   "source": [
    "<h3>transform the column \"hetlife\" to numerical<h3>"
   ]
  },
  {
   "cell_type": "code",
   "execution_count": 145,
   "metadata": {},
   "outputs": [
    {
     "name": "stdout",
     "output_type": "stream",
     "text": [
      "float64\n",
      "float64\n"
     ]
    }
   ],
   "source": [
    "# Convert the \"hetlife\" column to numeric data type\n",
    "df_1['hetlife'] = pd.to_numeric(df_1['hetlife'], errors='coerce')\n",
    "df_2['hetlife'] = pd.to_numeric(df_2['hetlife'], errors='coerce')\n",
    "\n",
    "# errors='coerce' will convert any non-numeric values to NaN (missing values)\n",
    "\n",
    "\n",
    "print(df_1['hetlife'].dtype)\n",
    "print(df_2['hetlife'].dtype)\n"
   ]
  },
  {
   "cell_type": "markdown",
   "metadata": {},
   "source": [
    "<h3>make copies of the new dataset<h3>"
   ]
  },
  {
   "cell_type": "code",
   "execution_count": 146,
   "metadata": {},
   "outputs": [],
   "source": [
    "df1_float = df_1.copy()\n",
    "df2_float = df_2.copy()"
   ]
  },
  {
   "cell_type": "markdown",
   "metadata": {},
   "source": [
    "<h3>Create 2 new datasets, picking only the columns that we need<h3>"
   ]
  },
  {
   "cell_type": "code",
   "execution_count": 147,
   "metadata": {},
   "outputs": [],
   "source": [
    "columns_to_keep = ['hetlife', 'rsex', 'dateyoi']\n",
    "\n",
    "\n",
    "new_df_1 = df1_float[columns_to_keep]\n",
    "new_df_2 = df2_float[columns_to_keep]\n",
    "\n"
   ]
  },
  {
   "cell_type": "markdown",
   "metadata": {},
   "source": [
    "<h3>Merging the datasets<h3>"
   ]
  },
  {
   "cell_type": "code",
   "execution_count": 148,
   "metadata": {},
   "outputs": [],
   "source": [
    "# merging 2 datasets\n",
    "merged_df = pd.merge(new_df_1, new_df_2, how='outer')\n",
    "\n",
    "\n",
    "# Save the merged dataset to a new CSV file\n",
    "merged_df.to_csv('df.csv', index=False)"
   ]
  },
  {
   "cell_type": "code",
   "execution_count": 149,
   "metadata": {},
   "outputs": [
    {
     "data": {
      "text/html": [
       "<div>\n",
       "<style scoped>\n",
       "    .dataframe tbody tr th:only-of-type {\n",
       "        vertical-align: middle;\n",
       "    }\n",
       "\n",
       "    .dataframe tbody tr th {\n",
       "        vertical-align: top;\n",
       "    }\n",
       "\n",
       "    .dataframe thead th {\n",
       "        text-align: right;\n",
       "    }\n",
       "</style>\n",
       "<table border=\"1\" class=\"dataframe\">\n",
       "  <thead>\n",
       "    <tr style=\"text-align: right;\">\n",
       "      <th></th>\n",
       "      <th>hetlife</th>\n",
       "      <th>rsex</th>\n",
       "      <th>dateyoi</th>\n",
       "    </tr>\n",
       "  </thead>\n",
       "  <tbody>\n",
       "    <tr>\n",
       "      <th>12110</th>\n",
       "      <td>1.0</td>\n",
       "      <td>male</td>\n",
       "      <td>2010</td>\n",
       "    </tr>\n",
       "    <tr>\n",
       "      <th>12111</th>\n",
       "      <td>1.0</td>\n",
       "      <td>female</td>\n",
       "      <td>2010</td>\n",
       "    </tr>\n",
       "    <tr>\n",
       "      <th>12112</th>\n",
       "      <td>3.0</td>\n",
       "      <td>male</td>\n",
       "      <td>2010</td>\n",
       "    </tr>\n",
       "    <tr>\n",
       "      <th>12113</th>\n",
       "      <td>17.0</td>\n",
       "      <td>female</td>\n",
       "      <td>2010</td>\n",
       "    </tr>\n",
       "    <tr>\n",
       "      <th>12114</th>\n",
       "      <td>3.0</td>\n",
       "      <td>female</td>\n",
       "      <td>2010</td>\n",
       "    </tr>\n",
       "    <tr>\n",
       "      <th>...</th>\n",
       "      <td>...</td>\n",
       "      <td>...</td>\n",
       "      <td>...</td>\n",
       "    </tr>\n",
       "    <tr>\n",
       "      <th>27267</th>\n",
       "      <td>0.0</td>\n",
       "      <td>male</td>\n",
       "      <td>2012</td>\n",
       "    </tr>\n",
       "    <tr>\n",
       "      <th>27268</th>\n",
       "      <td>1.0</td>\n",
       "      <td>female</td>\n",
       "      <td>2012</td>\n",
       "    </tr>\n",
       "    <tr>\n",
       "      <th>27269</th>\n",
       "      <td>3.0</td>\n",
       "      <td>male</td>\n",
       "      <td>2012</td>\n",
       "    </tr>\n",
       "    <tr>\n",
       "      <th>27270</th>\n",
       "      <td>20.0</td>\n",
       "      <td>female</td>\n",
       "      <td>2012</td>\n",
       "    </tr>\n",
       "    <tr>\n",
       "      <th>27271</th>\n",
       "      <td>1.0</td>\n",
       "      <td>female</td>\n",
       "      <td>2012</td>\n",
       "    </tr>\n",
       "  </tbody>\n",
       "</table>\n",
       "<p>15162 rows × 3 columns</p>\n",
       "</div>"
      ],
      "text/plain": [
       "       hetlife    rsex  dateyoi\n",
       "12110      1.0    male     2010\n",
       "12111      1.0  female     2010\n",
       "12112      3.0    male     2010\n",
       "12113     17.0  female     2010\n",
       "12114      3.0  female     2010\n",
       "...        ...     ...      ...\n",
       "27267      0.0    male     2012\n",
       "27268      1.0  female     2012\n",
       "27269      3.0    male     2012\n",
       "27270     20.0  female     2012\n",
       "27271      1.0  female     2012\n",
       "\n",
       "[15162 rows x 3 columns]"
      ]
     },
     "execution_count": 149,
     "metadata": {},
     "output_type": "execute_result"
    }
   ],
   "source": [
    "df"
   ]
  },
  {
   "cell_type": "markdown",
   "metadata": {},
   "source": [
    "<h3> convert the values in a column to lowercase for rsex<h3>"
   ]
  },
  {
   "cell_type": "code",
   "execution_count": 150,
   "metadata": {},
   "outputs": [
    {
     "name": "stdout",
     "output_type": "stream",
     "text": [
      "['male' 'female']\n"
     ]
    },
    {
     "name": "stderr",
     "output_type": "stream",
     "text": [
      "C:\\Users\\ReDI\\AppData\\Local\\Temp\\ipykernel_14140\\1291767879.py:5: SettingWithCopyWarning: \n",
      "A value is trying to be set on a copy of a slice from a DataFrame.\n",
      "Try using .loc[row_indexer,col_indexer] = value instead\n",
      "\n",
      "See the caveats in the documentation: https://pandas.pydata.org/pandas-docs/stable/user_guide/indexing.html#returning-a-view-versus-a-copy\n",
      "  df[column_name] = df[column_name].str.lower()\n"
     ]
    }
   ],
   "source": [
    "# Specify the column containing 'Male' and 'Female' values\n",
    "column_name = 'rsex'\n",
    "\n",
    "# Convert values to lowercase\n",
    "df[column_name] = df[column_name].str.lower()\n",
    "\n",
    "# Print the unique values in the column to verify the change\n",
    "print(df[column_name].unique())\n"
   ]
  },
  {
   "cell_type": "markdown",
   "metadata": {},
   "source": [
    "<h3>Make a copy of the final dataset<h3>"
   ]
  },
  {
   "cell_type": "code",
   "execution_count": 151,
   "metadata": {},
   "outputs": [],
   "source": [
    "final_df = df.copy()"
   ]
  },
  {
   "cell_type": "code",
   "execution_count": 152,
   "metadata": {},
   "outputs": [
    {
     "data": {
      "text/html": [
       "<div>\n",
       "<style scoped>\n",
       "    .dataframe tbody tr th:only-of-type {\n",
       "        vertical-align: middle;\n",
       "    }\n",
       "\n",
       "    .dataframe tbody tr th {\n",
       "        vertical-align: top;\n",
       "    }\n",
       "\n",
       "    .dataframe thead th {\n",
       "        text-align: right;\n",
       "    }\n",
       "</style>\n",
       "<table border=\"1\" class=\"dataframe\">\n",
       "  <thead>\n",
       "    <tr style=\"text-align: right;\">\n",
       "      <th></th>\n",
       "      <th>hetlife</th>\n",
       "      <th>rsex</th>\n",
       "      <th>dateyoi</th>\n",
       "    </tr>\n",
       "  </thead>\n",
       "  <tbody>\n",
       "    <tr>\n",
       "      <th>12110</th>\n",
       "      <td>1.0</td>\n",
       "      <td>male</td>\n",
       "      <td>2010</td>\n",
       "    </tr>\n",
       "    <tr>\n",
       "      <th>12111</th>\n",
       "      <td>1.0</td>\n",
       "      <td>female</td>\n",
       "      <td>2010</td>\n",
       "    </tr>\n",
       "    <tr>\n",
       "      <th>12112</th>\n",
       "      <td>3.0</td>\n",
       "      <td>male</td>\n",
       "      <td>2010</td>\n",
       "    </tr>\n",
       "    <tr>\n",
       "      <th>12113</th>\n",
       "      <td>17.0</td>\n",
       "      <td>female</td>\n",
       "      <td>2010</td>\n",
       "    </tr>\n",
       "    <tr>\n",
       "      <th>12114</th>\n",
       "      <td>3.0</td>\n",
       "      <td>female</td>\n",
       "      <td>2010</td>\n",
       "    </tr>\n",
       "    <tr>\n",
       "      <th>...</th>\n",
       "      <td>...</td>\n",
       "      <td>...</td>\n",
       "      <td>...</td>\n",
       "    </tr>\n",
       "    <tr>\n",
       "      <th>27267</th>\n",
       "      <td>0.0</td>\n",
       "      <td>male</td>\n",
       "      <td>2012</td>\n",
       "    </tr>\n",
       "    <tr>\n",
       "      <th>27268</th>\n",
       "      <td>1.0</td>\n",
       "      <td>female</td>\n",
       "      <td>2012</td>\n",
       "    </tr>\n",
       "    <tr>\n",
       "      <th>27269</th>\n",
       "      <td>3.0</td>\n",
       "      <td>male</td>\n",
       "      <td>2012</td>\n",
       "    </tr>\n",
       "    <tr>\n",
       "      <th>27270</th>\n",
       "      <td>20.0</td>\n",
       "      <td>female</td>\n",
       "      <td>2012</td>\n",
       "    </tr>\n",
       "    <tr>\n",
       "      <th>27271</th>\n",
       "      <td>1.0</td>\n",
       "      <td>female</td>\n",
       "      <td>2012</td>\n",
       "    </tr>\n",
       "  </tbody>\n",
       "</table>\n",
       "<p>15162 rows × 3 columns</p>\n",
       "</div>"
      ],
      "text/plain": [
       "       hetlife    rsex  dateyoi\n",
       "12110      1.0    male     2010\n",
       "12111      1.0  female     2010\n",
       "12112      3.0    male     2010\n",
       "12113     17.0  female     2010\n",
       "12114      3.0  female     2010\n",
       "...        ...     ...      ...\n",
       "27267      0.0    male     2012\n",
       "27268      1.0  female     2012\n",
       "27269      3.0    male     2012\n",
       "27270     20.0  female     2012\n",
       "27271      1.0  female     2012\n",
       "\n",
       "[15162 rows x 3 columns]"
      ]
     },
     "execution_count": 152,
     "metadata": {},
     "output_type": "execute_result"
    }
   ],
   "source": [
    "final_df"
   ]
  },
  {
   "cell_type": "markdown",
   "metadata": {},
   "source": [
    "<h3>Infos on HetLife and transformation of datatype<h3>"
   ]
  },
  {
   "cell_type": "code",
   "execution_count": 153,
   "metadata": {},
   "outputs": [
    {
     "name": "stdout",
     "output_type": "stream",
     "text": [
      "Minimum value of column hetlife: 0.0\n",
      "Maximum value of column hetlife: 3300.0\n"
     ]
    }
   ],
   "source": [
    "# min and max of column: hetlife\n",
    "\n",
    "import pandas as pd\n",
    "\n",
    "\n",
    "column_name_hetlife = 'hetlife'\n",
    "\n",
    "\n",
    "min_value_of_hetlife = final_df[column_name_hetlife].min()\n",
    "max_value_of_hetlife = final_df[column_name_hetlife].max()\n",
    "\n",
    "print(\"Minimum value of column {}: {}\".format(column_name_hetlife, min_value_of_hetlife))\n",
    "print(\"Maximum value of column {}: {}\".format(column_name_hetlife, max_value_of_hetlife))\n"
   ]
  },
  {
   "cell_type": "code",
   "execution_count": 154,
   "metadata": {},
   "outputs": [
    {
     "name": "stdout",
     "output_type": "stream",
     "text": [
      "12110     1.0\n",
      "12111     1.0\n",
      "12112     3.0\n",
      "12113    17.0\n",
      "12114     3.0\n",
      "         ... \n",
      "27267     0.0\n",
      "27268     1.0\n",
      "27269     3.0\n",
      "27270    20.0\n",
      "27271     1.0\n",
      "Name: hetlife, Length: 15162, dtype: float64\n"
     ]
    }
   ],
   "source": [
    "# Showing values for hetlife\n",
    "\n",
    "print(final_df['hetlife'])"
   ]
  },
  {
   "cell_type": "markdown",
   "metadata": {},
   "source": [
    "<h3>check the data types for the final dataset<h3>"
   ]
  },
  {
   "cell_type": "code",
   "execution_count": 155,
   "metadata": {},
   "outputs": [
    {
     "name": "stdout",
     "output_type": "stream",
     "text": [
      "hetlife    float64\n",
      "rsex        object\n",
      "dateyoi      int64\n",
      "dtype: object\n"
     ]
    }
   ],
   "source": [
    "# check the data types for the final dataset\n",
    "\n",
    "import pandas as pd\n",
    "\n",
    "# Check the data types of all columns\n",
    "print(final_df.dtypes)\n"
   ]
  },
  {
   "cell_type": "markdown",
   "metadata": {},
   "source": [
    "<h3>descriptive analysis for the final df<h3>"
   ]
  },
  {
   "cell_type": "code",
   "execution_count": 156,
   "metadata": {},
   "outputs": [
    {
     "name": "stdout",
     "output_type": "stream",
     "text": [
      "                     mean  median        std  min     max\n",
      "rsex   dateyoi                                           \n",
      "female 2010      7.265902     4.0  10.300151  0.0   150.0\n",
      "       2011      7.943318     4.0  39.983265  0.0  2220.0\n",
      "       2012      7.170845     4.0  14.282854  0.0   500.0\n",
      "male   2010     16.988235     5.0  96.404400  0.0  2200.0\n",
      "       2011     14.247217     5.0  80.838608  0.0  3300.0\n",
      "       2012     13.313426     5.0  34.038149  0.0  1000.0\n"
     ]
    }
   ],
   "source": [
    "# Descriptive Analysis:\n",
    "\n",
    "\n",
    "# Group by gender and dateyoi, then compute summary statistics\n",
    "summary_stats = final_df.groupby(['rsex', 'dateyoi'])['hetlife'].agg(['mean', 'median', 'std', 'min', 'max'])\n",
    "\n",
    "print(summary_stats)\n"
   ]
  },
  {
   "cell_type": "code",
   "execution_count": 157,
   "metadata": {},
   "outputs": [
    {
     "name": "stdout",
     "output_type": "stream",
     "text": [
      "0.0\n",
      "3300.0\n"
     ]
    }
   ],
   "source": [
    "print(final_df['hetlife'].min())\n",
    "print(final_df['hetlife'].max())"
   ]
  },
  {
   "cell_type": "code",
   "execution_count": 158,
   "metadata": {},
   "outputs": [
    {
     "name": "stdout",
     "output_type": "stream",
     "text": [
      "First 20 rows:\n",
      "       hetlife    rsex  dateyoi\n",
      "15509   3300.0    male     2011\n",
      "21285   2500.0    male     2011\n",
      "26725   2220.0  female     2011\n",
      "13513   2200.0    male     2010\n",
      "14434   1115.0  female     2011\n",
      "12840   1000.0    male     2010\n",
      "17769   1000.0    male     2012\n",
      "19854    999.0    male     2011\n",
      "18082    500.0  female     2012\n",
      "25102    500.0    male     2011\n",
      "19073    500.0    male     2012\n",
      "26094    450.0  female     2011\n",
      "24044    401.0    male     2011\n",
      "14138    400.0    male     2011\n",
      "23983    400.0    male     2011\n",
      "12762    400.0    male     2010\n",
      "12279    400.0    male     2010\n",
      "17900    350.0    male     2012\n",
      "25036    301.0  female     2011\n",
      "20081    300.0  female     2011\n",
      "\n",
      "Last 20 rows:\n",
      "       hetlife    rsex  dateyoi\n",
      "26923      NaN    male     2011\n",
      "26990      NaN  female     2011\n",
      "27008      NaN    male     2011\n",
      "27017      NaN  female     2011\n",
      "27074      NaN    male     2011\n",
      "27104      NaN  female     2011\n",
      "27157      NaN    male     2012\n",
      "27158      NaN    male     2012\n",
      "27167      NaN  female     2012\n",
      "27179      NaN    male     2012\n",
      "27182      NaN    male     2012\n",
      "27197      NaN    male     2012\n",
      "27199      NaN    male     2012\n",
      "27205      NaN    male     2012\n",
      "27207      NaN  female     2012\n",
      "27209      NaN  female     2012\n",
      "27211      NaN  female     2012\n",
      "27252      NaN  female     2012\n",
      "27257      NaN  female     2012\n",
      "27263      NaN    male     2012\n"
     ]
    }
   ],
   "source": [
    "sort_column = 'hetlife'\n",
    "\n",
    "# Sort the DataFrame in descending order based on the specified column\n",
    "sorted_df = final_df.sort_values(by=sort_column, ascending=False)\n",
    "\n",
    "# Display the first and last 20 rows\n",
    "print(\"First 20 rows:\")\n",
    "print(sorted_df.head(20))  \n",
    "print(\"\\nLast 20 rows:\")\n",
    "print(sorted_df.tail(20))\n"
   ]
  },
  {
   "cell_type": "markdown",
   "metadata": {},
   "source": [
    "<h3>check the NaN values for the final dataset<h3>"
   ]
  },
  {
   "cell_type": "code",
   "execution_count": 159,
   "metadata": {},
   "outputs": [
    {
     "name": "stdout",
     "output_type": "stream",
     "text": [
      "Number of NaN values in column:  604\n"
     ]
    }
   ],
   "source": [
    "# as we can see there some NaN values, let's check them out\n",
    "\n",
    "# Check for NaN values in the specified column\n",
    "nan_values_hetlife = final_df['hetlife'].isna()  # or df[column_name].isnull()\n",
    "\n",
    "# Count the number of NaN values\n",
    "nan_count_hetlife = nan_values_hetlife.sum()\n",
    "\n",
    "print(\"Number of NaN values in column: \", nan_count_hetlife)\n",
    "\n"
   ]
  },
  {
   "cell_type": "markdown",
   "metadata": {},
   "source": [
    "<h2>handling NaN values<h2>\n",
    "\n",
    "\n",
    "<h4> Drop rows with NaN values in 'hetlife' column\n",
    "<h4>"
   ]
  },
  {
   "cell_type": "code",
   "execution_count": 160,
   "metadata": {},
   "outputs": [],
   "source": [
    "# Dropping missing values\n",
    "\n",
    "clean_df = final_df.dropna()\n",
    "\n"
   ]
  },
  {
   "cell_type": "code",
   "execution_count": 161,
   "metadata": {},
   "outputs": [
    {
     "name": "stdout",
     "output_type": "stream",
     "text": [
      "Number of NaN values in column:  0\n"
     ]
    }
   ],
   "source": [
    "# as we can see there some NaN values, let's check them out\n",
    "\n",
    "# Check for NaN values in the specified column\n",
    "nan_values_hetlife_1 = clean_df['hetlife'].isna()  \n",
    "\n",
    "# Count the number of NaN values\n",
    "nan_count_hetlife = nan_values_hetlife_1.sum()\n",
    "\n",
    "print(\"Number of NaN values in column: \", nan_count_hetlife)"
   ]
  },
  {
   "cell_type": "markdown",
   "metadata": {},
   "source": [
    "<h3>Visualization:\n",
    "\n",
    "Create visualizations such as histograms to visually compare the distribution of the number of heterosexual partners between genders for each time period.<h3>"
   ]
  },
  {
   "cell_type": "code",
   "execution_count": 162,
   "metadata": {},
   "outputs": [
    {
     "name": "stdout",
     "output_type": "stream",
     "text": [
      "float64\n"
     ]
    }
   ],
   "source": [
    "print(clean_df['hetlife'].dtype)"
   ]
  },
  {
   "cell_type": "code",
   "execution_count": 163,
   "metadata": {},
   "outputs": [],
   "source": [
    "import pandas as pd\n",
    "\n",
    "\n",
    "clean_df.to_csv('clean_df.csv', index=False)\n"
   ]
  },
  {
   "cell_type": "code",
   "execution_count": 164,
   "metadata": {},
   "outputs": [
    {
     "data": {
      "text/html": [
       "<div>\n",
       "<style scoped>\n",
       "    .dataframe tbody tr th:only-of-type {\n",
       "        vertical-align: middle;\n",
       "    }\n",
       "\n",
       "    .dataframe tbody tr th {\n",
       "        vertical-align: top;\n",
       "    }\n",
       "\n",
       "    .dataframe thead th {\n",
       "        text-align: right;\n",
       "    }\n",
       "</style>\n",
       "<table border=\"1\" class=\"dataframe\">\n",
       "  <thead>\n",
       "    <tr style=\"text-align: right;\">\n",
       "      <th></th>\n",
       "      <th>hetlife</th>\n",
       "      <th>rsex</th>\n",
       "      <th>dateyoi</th>\n",
       "    </tr>\n",
       "  </thead>\n",
       "  <tbody>\n",
       "    <tr>\n",
       "      <th>12110</th>\n",
       "      <td>1.0</td>\n",
       "      <td>male</td>\n",
       "      <td>2010</td>\n",
       "    </tr>\n",
       "    <tr>\n",
       "      <th>12111</th>\n",
       "      <td>1.0</td>\n",
       "      <td>female</td>\n",
       "      <td>2010</td>\n",
       "    </tr>\n",
       "    <tr>\n",
       "      <th>12112</th>\n",
       "      <td>3.0</td>\n",
       "      <td>male</td>\n",
       "      <td>2010</td>\n",
       "    </tr>\n",
       "    <tr>\n",
       "      <th>12113</th>\n",
       "      <td>17.0</td>\n",
       "      <td>female</td>\n",
       "      <td>2010</td>\n",
       "    </tr>\n",
       "    <tr>\n",
       "      <th>12114</th>\n",
       "      <td>3.0</td>\n",
       "      <td>female</td>\n",
       "      <td>2010</td>\n",
       "    </tr>\n",
       "    <tr>\n",
       "      <th>...</th>\n",
       "      <td>...</td>\n",
       "      <td>...</td>\n",
       "      <td>...</td>\n",
       "    </tr>\n",
       "    <tr>\n",
       "      <th>27267</th>\n",
       "      <td>0.0</td>\n",
       "      <td>male</td>\n",
       "      <td>2012</td>\n",
       "    </tr>\n",
       "    <tr>\n",
       "      <th>27268</th>\n",
       "      <td>1.0</td>\n",
       "      <td>female</td>\n",
       "      <td>2012</td>\n",
       "    </tr>\n",
       "    <tr>\n",
       "      <th>27269</th>\n",
       "      <td>3.0</td>\n",
       "      <td>male</td>\n",
       "      <td>2012</td>\n",
       "    </tr>\n",
       "    <tr>\n",
       "      <th>27270</th>\n",
       "      <td>20.0</td>\n",
       "      <td>female</td>\n",
       "      <td>2012</td>\n",
       "    </tr>\n",
       "    <tr>\n",
       "      <th>27271</th>\n",
       "      <td>1.0</td>\n",
       "      <td>female</td>\n",
       "      <td>2012</td>\n",
       "    </tr>\n",
       "  </tbody>\n",
       "</table>\n",
       "<p>14558 rows × 3 columns</p>\n",
       "</div>"
      ],
      "text/plain": [
       "       hetlife    rsex  dateyoi\n",
       "12110      1.0    male     2010\n",
       "12111      1.0  female     2010\n",
       "12112      3.0    male     2010\n",
       "12113     17.0  female     2010\n",
       "12114      3.0  female     2010\n",
       "...        ...     ...      ...\n",
       "27267      0.0    male     2012\n",
       "27268      1.0  female     2012\n",
       "27269      3.0    male     2012\n",
       "27270     20.0  female     2012\n",
       "27271      1.0  female     2012\n",
       "\n",
       "[14558 rows x 3 columns]"
      ]
     },
     "execution_count": 164,
     "metadata": {},
     "output_type": "execute_result"
    }
   ],
   "source": [
    "clean_df"
   ]
  }
 ],
 "metadata": {
  "kernelspec": {
   "display_name": "Pandas",
   "language": "python",
   "name": "python3"
  },
  "language_info": {
   "codemirror_mode": {
    "name": "ipython",
    "version": 3
   },
   "file_extension": ".py",
   "mimetype": "text/x-python",
   "name": "python",
   "nbconvert_exporter": "python",
   "pygments_lexer": "ipython3",
   "version": "3.9.17"
  },
  "orig_nbformat": 4
 },
 "nbformat": 4,
 "nbformat_minor": 2
}
