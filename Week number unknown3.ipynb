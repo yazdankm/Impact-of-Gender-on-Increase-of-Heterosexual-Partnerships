{
 "cells": [
  {
   "cell_type": "code",
   "execution_count": 8,
   "metadata": {},
   "outputs": [],
   "source": [
    "import pandas as pd\n",
    "\n",
    "data = pd.read_csv('C:\\\\Users\\\\ReDI\\\\Desktop\\\\KreativStorm\\\\Datasets\\\\Crime_R.csv')\n",
    "\n"
   ]
  },
  {
   "cell_type": "code",
   "execution_count": 9,
   "metadata": {},
   "outputs": [
    {
     "data": {
      "text/plain": [
       "Index(['CrimeRate', 'Youth', 'Southern', 'Education', 'ExpenditureYear0',\n",
       "       'LabourForce', 'Males', 'MoreMales', 'StateSize', 'YouthUnemployment',\n",
       "       'MatureUnemployment', 'HighYouthUnemploy', 'Wage', 'BelowWage',\n",
       "       'CrimeRate10', 'Youth10', 'Education10', 'ExpenditureYear10',\n",
       "       'LabourForce10', 'Males10', 'MoreMales10', 'StateSize10',\n",
       "       'YouthUnemploy10', 'MatureUnemploy10', 'HighYouthUnemploy10', 'Wage10',\n",
       "       'BelowWage10'],\n",
       "      dtype='object')"
      ]
     },
     "metadata": {},
     "output_type": "display_data"
    }
   ],
   "source": [
    "display(data.columns)"
   ]
  },
  {
   "cell_type": "code",
   "execution_count": 10,
   "metadata": {},
   "outputs": [
    {
     "name": "stdout",
     "output_type": "stream",
     "text": [
      "Mean Crime Rate in Southern States: 100.68125\n",
      "Mean Crime Rate in Non-Southern States: 103.90645161290325\n"
     ]
    }
   ],
   "source": [
    "import pandas as pd\n",
    "\n",
    "\n",
    "\n",
    "# Group data by 'Southern' column\n",
    "southern_states = data[data['Southern'] == 1]\n",
    "non_southern_states = data[data['Southern'] == 0]\n",
    "\n",
    "# Calculate mean crime rates for each group\n",
    "mean_crime_rate_southern = southern_states['CrimeRate'].mean()\n",
    "mean_crime_rate_non_southern = non_southern_states['CrimeRate'].mean()\n",
    "\n",
    "# Print the mean crime rates\n",
    "print(\"Mean Crime Rate in Southern States:\", mean_crime_rate_southern)\n",
    "print(\"Mean Crime Rate in Non-Southern States:\", mean_crime_rate_non_southern)\n"
   ]
  },
  {
   "cell_type": "code",
   "execution_count": 11,
   "metadata": {},
   "outputs": [
    {
     "name": "stdout",
     "output_type": "stream",
     "text": [
      "T-statistic: -0.35917086887921945\n",
      "P-value: 0.7211471608862718\n"
     ]
    }
   ],
   "source": [
    "from scipy.stats import ttest_ind\n",
    "\n",
    "# Assuming you have already loaded and prepared your data as described earlier\n",
    "\n",
    "# Perform t-test\n",
    "t_statistic, p_value = ttest_ind(southern_states['CrimeRate'], non_southern_states['CrimeRate'])\n",
    "\n",
    "# Print the results\n",
    "print(\"T-statistic:\", t_statistic)\n",
    "print(\"P-value:\", p_value)\n"
   ]
  },
  {
   "cell_type": "code",
   "execution_count": 12,
   "metadata": {},
   "outputs": [
    {
     "name": "stdout",
     "output_type": "stream",
     "text": [
      "Correlation coefficient between Crime Rate and Police Expenditure: 0.6462106045544193\n"
     ]
    }
   ],
   "source": [
    "import numpy as np\n",
    "\n",
    "# Assuming you have already loaded and prepared your data as described earlier\n",
    "\n",
    "# Calculate the correlation coefficient\n",
    "correlation = np.corrcoef(data['CrimeRate'], data['ExpenditureYear0'])[0, 1]\n",
    "\n",
    "# Print the correlation coefficient\n",
    "print(\"Correlation coefficient between Crime Rate and Police Expenditure:\", correlation)\n"
   ]
  },
  {
   "cell_type": "code",
   "execution_count": 13,
   "metadata": {},
   "outputs": [
    {
     "data": {
      "text/plain": [
       "Index(['CrimeRate', 'Youth', 'Southern', 'Education', 'ExpenditureYear0',\n",
       "       'LabourForce', 'Males', 'MoreMales', 'StateSize', 'YouthUnemployment',\n",
       "       'MatureUnemployment', 'HighYouthUnemploy', 'Wage', 'BelowWage',\n",
       "       'CrimeRate10', 'Youth10', 'Education10', 'ExpenditureYear10',\n",
       "       'LabourForce10', 'Males10', 'MoreMales10', 'StateSize10',\n",
       "       'YouthUnemploy10', 'MatureUnemploy10', 'HighYouthUnemploy10', 'Wage10',\n",
       "       'BelowWage10'],\n",
       "      dtype='object')"
      ]
     },
     "execution_count": 13,
     "metadata": {},
     "output_type": "execute_result"
    }
   ],
   "source": [
    "data.columns"
   ]
  },
  {
   "cell_type": "code",
   "execution_count": 14,
   "metadata": {},
   "outputs": [
    {
     "name": "stdout",
     "output_type": "stream",
     "text": [
      "Correlation coefficient between Crime Rate and Number of Families Below Half Wage: -0.16731772546827625\n"
     ]
    }
   ],
   "source": [
    "import numpy as np\n",
    "\n",
    "# Assuming you have already loaded and prepared your data as described earlier\n",
    "\n",
    "# Calculate the correlation coefficient\n",
    "correlation = np.corrcoef(data['CrimeRate'], data['BelowWage'])[0, 1]\n",
    "\n",
    "# Print the correlation coefficient\n",
    "print(\"Correlation coefficient between Crime Rate and Number of Families Below Half Wage:\", correlation)\n"
   ]
  },
  {
   "cell_type": "code",
   "execution_count": 15,
   "metadata": {},
   "outputs": [
    {
     "name": "stdout",
     "output_type": "stream",
     "text": [
      "                            OLS Regression Results                            \n",
      "==============================================================================\n",
      "Dep. Variable:              CrimeRate   R-squared:                       0.025\n",
      "Model:                            OLS   Adj. R-squared:                  0.003\n",
      "Method:                 Least Squares   F-statistic:                     1.139\n",
      "Date:                Sat, 10 Feb 2024   Prob (F-statistic):              0.292\n",
      "Time:                        15:13:36   Log-Likelihood:                -223.69\n",
      "No. Observations:                  47   AIC:                             451.4\n",
      "Df Residuals:                      45   BIC:                             455.1\n",
      "Df Model:                           1                                         \n",
      "Covariance Type:            nonrobust                                         \n",
      "==============================================================================\n",
      "                 coef    std err          t      P>|t|      [0.025      0.975]\n",
      "------------------------------------------------------------------------------\n",
      "const        -48.6278    141.963     -0.343      0.734    -334.556     237.301\n",
      "Males          0.1541      0.144      1.067      0.292      -0.137       0.445\n",
      "==============================================================================\n",
      "Omnibus:                        0.827   Durbin-Watson:                   0.057\n",
      "Prob(Omnibus):                  0.661   Jarque-Bera (JB):                0.790\n",
      "Skew:                           0.019   Prob(JB):                        0.674\n",
      "Kurtosis:                       2.366   Cond. No.                     3.32e+04\n",
      "==============================================================================\n",
      "\n",
      "Notes:\n",
      "[1] Standard Errors assume that the covariance matrix of the errors is correctly specified.\n",
      "[2] The condition number is large, 3.32e+04. This might indicate that there are\n",
      "strong multicollinearity or other numerical problems.\n"
     ]
    }
   ],
   "source": [
    "import statsmodels.api as sm\n",
    "\n",
    "# Assuming you have already loaded and prepared your data as described earlier\n",
    "\n",
    "# Add a constant term to the independent variable\n",
    "X = sm.add_constant(data['Males'])\n",
    "\n",
    "# Fit the linear regression model\n",
    "model = sm.OLS(data['CrimeRate'], X).fit()\n",
    "\n",
    "# Print the summary of the regression model\n",
    "print(model.summary())\n"
   ]
  },
  {
   "cell_type": "code",
   "execution_count": 16,
   "metadata": {},
   "outputs": [
    {
     "name": "stdout",
     "output_type": "stream",
     "text": [
      "                            OLS Regression Results                            \n",
      "==============================================================================\n",
      "Dep. Variable:              CrimeRate   R-squared:                       0.028\n",
      "Model:                            OLS   Adj. R-squared:                  0.006\n",
      "Method:                 Least Squares   F-statistic:                     1.296\n",
      "Date:                Sat, 10 Feb 2024   Prob (F-statistic):              0.261\n",
      "Time:                        15:15:05   Log-Likelihood:                -223.61\n",
      "No. Observations:                  47   AIC:                             451.2\n",
      "Df Residuals:                      45   BIC:                             454.9\n",
      "Df Model:                           1                                         \n",
      "Covariance Type:            nonrobust                                         \n",
      "==============================================================================\n",
      "                 coef    std err          t      P>|t|      [0.025      0.975]\n",
      "------------------------------------------------------------------------------\n",
      "const        126.3162     21.072      5.995      0.000      83.875     168.757\n",
      "BelowWage     -0.1212      0.106     -1.138      0.261      -0.336       0.093\n",
      "==============================================================================\n",
      "Omnibus:                        0.815   Durbin-Watson:                   0.057\n",
      "Prob(Omnibus):                  0.665   Jarque-Bera (JB):                0.786\n",
      "Skew:                           0.028   Prob(JB):                        0.675\n",
      "Kurtosis:                       2.369   Cond. No.                         993.\n",
      "==============================================================================\n",
      "\n",
      "Notes:\n",
      "[1] Standard Errors assume that the covariance matrix of the errors is correctly specified.\n"
     ]
    }
   ],
   "source": [
    "import statsmodels.api as sm\n",
    "\n",
    "# Assuming you have already loaded and prepared your data as described earlier\n",
    "\n",
    "# Add a constant term to the independent variable\n",
    "X = sm.add_constant(data['BelowWage'])\n",
    "\n",
    "# Fit the linear regression model\n",
    "model = sm.OLS(data['CrimeRate'], X).fit()\n",
    "\n",
    "# Print the summary of the regression model\n",
    "print(model.summary())\n"
   ]
  },
  {
   "cell_type": "code",
   "execution_count": 18,
   "metadata": {},
   "outputs": [
    {
     "data": {
      "text/plain": [
       "Index(['CrimeRate', 'Youth', 'Southern', 'Education', 'ExpenditureYear0',\n",
       "       'LabourForce', 'Males', 'MoreMales', 'StateSize', 'YouthUnemployment',\n",
       "       'MatureUnemployment', 'HighYouthUnemploy', 'Wage', 'BelowWage',\n",
       "       'CrimeRate10', 'Youth10', 'Education10', 'ExpenditureYear10',\n",
       "       'LabourForce10', 'Males10', 'MoreMales10', 'StateSize10',\n",
       "       'YouthUnemploy10', 'MatureUnemploy10', 'HighYouthUnemploy10', 'Wage10',\n",
       "       'BelowWage10'],\n",
       "      dtype='object')"
      ]
     },
     "execution_count": 18,
     "metadata": {},
     "output_type": "execute_result"
    }
   ],
   "source": [
    "data.columns"
   ]
  },
  {
   "cell_type": "code",
   "execution_count": 19,
   "metadata": {},
   "outputs": [
    {
     "name": "stdout",
     "output_type": "stream",
     "text": [
      "Average Crime Rate Before: 102.80851063829788\n",
      "Average Crime Rate After 10 Years: 102.07021276595744\n",
      "Change in Crime Rate over 10 Years: -0.7382978723404392\n"
     ]
    }
   ],
   "source": [
    "# Assuming you have already loaded and prepared your data as described earlier\n",
    "\n",
    "# Calculate average crime rate before and after 10 years\n",
    "avg_crime_rate_before = data['CrimeRate'].mean()\n",
    "avg_crime_rate_after10years = data['CrimeRate10'].mean()\n",
    "\n",
    "# Calculate the difference in crime rates\n",
    "crime_rate_change = avg_crime_rate_after10years - avg_crime_rate_before\n",
    "\n",
    "# Print the results\n",
    "print(\"Average Crime Rate Before:\", avg_crime_rate_before)\n",
    "print(\"Average Crime Rate After 10 Years:\", avg_crime_rate_after10years)\n",
    "print(\"Change in Crime Rate over 10 Years:\", crime_rate_change)\n"
   ]
  },
  {
   "cell_type": "code",
   "execution_count": 20,
   "metadata": {},
   "outputs": [
    {
     "name": "stdout",
     "output_type": "stream",
     "text": [
      "Average Adult Unemployment Rate Before: 33.97872340425532\n",
      "Average Adult Unemployment Rate After 10 Years: 33.361702127659576\n",
      "Change in Adult Unemployment Rate over 10 Years: -0.617021276595743\n"
     ]
    }
   ],
   "source": [
    "# Assuming you have already loaded and prepared your data as described earlier\n",
    "\n",
    "# Calculate average adult unemployment rate before and after 10 years\n",
    "avg_adult_unemployment_before = data['MatureUnemployment'].mean()\n",
    "avg_adult_unemployment_after10years = data['MatureUnemploy10'].mean()\n",
    "\n",
    "# Calculate the difference in adult unemployment rates\n",
    "adult_unemployment_change = avg_adult_unemployment_after10years - avg_adult_unemployment_before\n",
    "\n",
    "# Print the results\n",
    "print(\"Average Adult Unemployment Rate Before:\", avg_adult_unemployment_before)\n",
    "print(\"Average Adult Unemployment Rate After 10 Years:\", avg_adult_unemployment_after10years)\n",
    "print(\"Change in Adult Unemployment Rate over 10 Years:\", adult_unemployment_change)\n"
   ]
  },
  {
   "cell_type": "code",
   "execution_count": 21,
   "metadata": {},
   "outputs": [
    {
     "name": "stdout",
     "output_type": "stream",
     "text": [
      "Average Police Expenditure in Southern States: 69.75\n",
      "Average Police Expenditure in Non-Southern States: 92.87096774193549\n"
     ]
    }
   ],
   "source": [
    "# Assuming you have already loaded and prepared your data as described earlier\n",
    "\n",
    "# Group data by 'Southern' column\n",
    "southern_states = data[data['Southern'] == 1]\n",
    "non_southern_states = data[data['Southern'] == 0]\n",
    "\n",
    "# Calculate average police expenditure for each group\n",
    "avg_police_expenditure_south = southern_states['ExpenditureYear0'].mean()\n",
    "avg_police_expenditure_north = non_southern_states['ExpenditureYear0'].mean()\n",
    "\n",
    "# Print the results\n",
    "print(\"Average Police Expenditure in Southern States:\", avg_police_expenditure_south)\n",
    "print(\"Average Police Expenditure in Non-Southern States:\", avg_police_expenditure_north)\n"
   ]
  }
 ],
 "metadata": {
  "kernelspec": {
   "display_name": "Pandas",
   "language": "python",
   "name": "python3"
  },
  "language_info": {
   "codemirror_mode": {
    "name": "ipython",
    "version": 3
   },
   "file_extension": ".py",
   "mimetype": "text/x-python",
   "name": "python",
   "nbconvert_exporter": "python",
   "pygments_lexer": "ipython3",
   "version": "3.9.17"
  },
  "orig_nbformat": 4
 },
 "nbformat": 4,
 "nbformat_minor": 2
}
