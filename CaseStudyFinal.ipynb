{
 "cells": [
  {
   "cell_type": "markdown",
   "metadata": {},
   "source": [
    "<h3>Reading the datasets and checking the common columns<h3>"
   ]
  },
  {
   "cell_type": "code",
   "execution_count": 67,
   "metadata": {},
   "outputs": [],
   "source": [
    "import pandas as pd\n",
    "\n",
    "\n",
    "file_path_0 = 'C:\\\\Users\\\\ReDI\\\\Desktop\\\\KreativStorm\\\\Datasets\\\\NSSAL_2000.dta'\n",
    "file_path_10 = 'C:\\\\Users\\\\ReDI\\\\Desktop\\\\KreativStorm\\\\Datasets\\\\NSSAL_2010.dta'\n",
    "\n",
    "\n",
    "df_1 = pd.read_stata(file_path_0)\n",
    "df_2 = pd.read_stata(file_path_10)\n"
   ]
  },
  {
   "cell_type": "code",
   "execution_count": 68,
   "metadata": {},
   "outputs": [
    {
     "name": "stdout",
     "output_type": "stream",
     "text": [
      "Data type of column 'hetlife' is: category\n"
     ]
    }
   ],
   "source": [
    "import pandas as pd\n",
    "\n",
    "# Assuming df is your DataFrame\n",
    "column_name = 'hetlife'\n",
    "column_dtype = df_1[column_name].dtype\n",
    "print(\"Data type of column '{}' is: {}\".format(column_name, column_dtype))\n",
    "\n"
   ]
  },
  {
   "cell_type": "markdown",
   "metadata": {},
   "source": [
    "<h3>transform the column \"hetlife\" to numerical<h3>"
   ]
  },
  {
   "cell_type": "code",
   "execution_count": 69,
   "metadata": {},
   "outputs": [
    {
     "name": "stdout",
     "output_type": "stream",
     "text": [
      "float64\n",
      "float64\n"
     ]
    }
   ],
   "source": [
    "# Convert the \"hetlife\" column to numeric data type\n",
    "df_1['hetlife'] = pd.to_numeric(df_1['hetlife'], errors='coerce')\n",
    "df_2['hetlife'] = pd.to_numeric(df_2['hetlife'], errors='coerce')\n",
    "\n",
    "# errors='coerce' will convert any non-numeric values to NaN (missing values)\n",
    "\n",
    "\n",
    "print(df_1['hetlife'].dtype)\n",
    "print(df_2['hetlife'].dtype)\n"
   ]
  },
  {
   "cell_type": "markdown",
   "metadata": {},
   "source": [
    "<h3>make copies of the new dataset<h3>"
   ]
  },
  {
   "cell_type": "code",
   "execution_count": 70,
   "metadata": {},
   "outputs": [],
   "source": [
    "df1_float = df_1.copy()\n",
    "df2_float = df_2.copy()"
   ]
  },
  {
   "cell_type": "markdown",
   "metadata": {},
   "source": [
    "<h3>Create 2 new datasets, picking only the columns that we need<h3>"
   ]
  },
  {
   "cell_type": "code",
   "execution_count": 71,
   "metadata": {},
   "outputs": [],
   "source": [
    "columns_to_keep = ['hetlife', 'rsex', 'dateyoi']\n",
    "\n",
    "\n",
    "new_df_1 = df1_float[columns_to_keep]\n",
    "new_df_2 = df2_float[columns_to_keep]\n",
    "\n"
   ]
  },
  {
   "cell_type": "markdown",
   "metadata": {},
   "source": [
    "<h3>Saving the datasets<h3>"
   ]
  },
  {
   "cell_type": "code",
   "execution_count": 72,
   "metadata": {},
   "outputs": [],
   "source": [
    "new_df_1.to_csv('df_1999_2001.csv', index=False)\n"
   ]
  },
  {
   "cell_type": "code",
   "execution_count": 73,
   "metadata": {},
   "outputs": [],
   "source": [
    "new_df_2.to_csv('df_2010_2012.csv', index=False)"
   ]
  },
  {
   "cell_type": "markdown",
   "metadata": {},
   "source": [
    "<h3>Dropping miising values<h3>"
   ]
  },
  {
   "cell_type": "code",
   "execution_count": 74,
   "metadata": {},
   "outputs": [],
   "source": [
    "clean_df_1999 = new_df_1.dropna()\n",
    "clean_df_2010 = new_df_2.dropna()\n"
   ]
  },
  {
   "cell_type": "markdown",
   "metadata": {},
   "source": [
    "<h3>saving again<h3>"
   ]
  },
  {
   "cell_type": "code",
   "execution_count": 75,
   "metadata": {},
   "outputs": [],
   "source": [
    "clean_df_1999.to_csv('clean_1999.csv', index=False)\n",
    "clean_df_2010.to_csv('clean_2010.csv', index=False)"
   ]
  },
  {
   "cell_type": "markdown",
   "metadata": {},
   "source": [
    "<h3>Checking for missing values after dropping them<h3>"
   ]
  },
  {
   "cell_type": "code",
   "execution_count": 76,
   "metadata": {},
   "outputs": [
    {
     "name": "stdout",
     "output_type": "stream",
     "text": [
      "Number of NaN values in column:  0\n"
     ]
    }
   ],
   "source": [
    "\n",
    "\n",
    "\n",
    "nan_values_hetlife = clean_df_1999['hetlife'].isna() \n",
    "\n",
    "\n",
    "nan_count_hetlife = nan_values_hetlife.sum()\n",
    "\n",
    "print(\"Number of NaN values in column: \", nan_count_hetlife)"
   ]
  },
  {
   "cell_type": "code",
   "execution_count": 77,
   "metadata": {},
   "outputs": [
    {
     "name": "stdout",
     "output_type": "stream",
     "text": [
      "Number of NaN values in column:  0\n"
     ]
    }
   ],
   "source": [
    "\n",
    "\n",
    "\n",
    "nan_values_hetlife_2010 = clean_df_2010['hetlife'].isna()\n",
    "\n",
    "\n",
    "nan_count_hetlife_2010 = nan_values_hetlife_2010.sum()\n",
    "\n",
    "print(\"Number of NaN values in column: \", nan_count_hetlife_2010)"
   ]
  },
  {
   "cell_type": "markdown",
   "metadata": {},
   "source": [
    "<h3>Checking the final datatypes<h3>"
   ]
  },
  {
   "cell_type": "code",
   "execution_count": 81,
   "metadata": {},
   "outputs": [
    {
     "name": "stdout",
     "output_type": "stream",
     "text": [
      "hetlife     float64\n",
      "rsex       category\n",
      "dateyoi       int16\n",
      "dtype: object\n"
     ]
    }
   ],
   "source": [
    "\n",
    "\n",
    "\n",
    "data_types = clean_df_2010.dtypes\n",
    "print(data_types)\n"
   ]
  },
  {
   "cell_type": "markdown",
   "metadata": {},
   "source": [
    "<h3>Merging the datasets<h3>"
   ]
  },
  {
   "cell_type": "code",
   "execution_count": null,
   "metadata": {},
   "outputs": [],
   "source": [
    "# merging 2 datasets\n",
    "merged_df = pd.merge(new_df_1, new_df_2, how='outer')\n",
    "\n",
    "\n",
    "# Save the merged dataset to a new CSV file\n",
    "merged_df.to_csv('df.csv', index=False)"
   ]
  },
  {
   "cell_type": "markdown",
   "metadata": {},
   "source": [
    "<h3>make a copy of merged dataset<h3>"
   ]
  },
  {
   "cell_type": "code",
   "execution_count": null,
   "metadata": {},
   "outputs": [],
   "source": [
    "df = merged_df.copy()\n"
   ]
  },
  {
   "cell_type": "markdown",
   "metadata": {},
   "source": [
    "<h3> convert the values in a column to lowercase for rsex<h3>"
   ]
  },
  {
   "cell_type": "code",
   "execution_count": null,
   "metadata": {},
   "outputs": [],
   "source": [
    "\n",
    "column_name = 'rsex'\n",
    "\n",
    "\n",
    "df[column_name] = df[column_name].str.lower()\n",
    "\n",
    "\n",
    "print(df[column_name].unique())\n"
   ]
  },
  {
   "cell_type": "markdown",
   "metadata": {},
   "source": [
    "<h3>Make a copy of the final dataset<h3>"
   ]
  },
  {
   "cell_type": "code",
   "execution_count": null,
   "metadata": {},
   "outputs": [],
   "source": [
    "final_df = df.copy()"
   ]
  },
  {
   "cell_type": "code",
   "execution_count": null,
   "metadata": {},
   "outputs": [],
   "source": [
    "final_df"
   ]
  },
  {
   "cell_type": "markdown",
   "metadata": {},
   "source": [
    "<h3>Infos on HetLife and transformation of datatype<h3>"
   ]
  },
  {
   "cell_type": "code",
   "execution_count": null,
   "metadata": {},
   "outputs": [],
   "source": [
    "# min and max of column: hetlife\n",
    "\n",
    "import pandas as pd\n",
    "\n",
    "\n",
    "column_name_hetlife = 'hetlife'\n",
    "\n",
    "\n",
    "min_value_of_hetlife = final_df[column_name_hetlife].min()\n",
    "max_value_of_hetlife = final_df[column_name_hetlife].max()\n",
    "\n",
    "print(\"Minimum value of column {}: {}\".format(column_name_hetlife, min_value_of_hetlife))\n",
    "print(\"Maximum value of column {}: {}\".format(column_name_hetlife, max_value_of_hetlife))\n"
   ]
  },
  {
   "cell_type": "markdown",
   "metadata": {},
   "source": [
    "<h3>descriptive analysis for the final df<h3>"
   ]
  },
  {
   "cell_type": "code",
   "execution_count": null,
   "metadata": {},
   "outputs": [],
   "source": [
    "# Descriptive Analysis:\n",
    "\n",
    "\n",
    "# Group by gender and dateyoi, then compute summary statistics\n",
    "summary_stats = final_df.groupby(['rsex', 'dateyoi'])['hetlife'].agg(['mean', 'median', 'std', 'min', 'max'])\n",
    "\n",
    "print(summary_stats)\n"
   ]
  },
  {
   "cell_type": "code",
   "execution_count": null,
   "metadata": {},
   "outputs": [],
   "source": [
    "print(final_df['hetlife'].min())\n",
    "print(final_df['hetlife'].max())"
   ]
  },
  {
   "cell_type": "code",
   "execution_count": null,
   "metadata": {},
   "outputs": [],
   "source": [
    "sort_column = 'hetlife'\n",
    "\n",
    "# Sort the DataFrame in descending order based on the specified column\n",
    "sorted_df = final_df.sort_values(by=sort_column, ascending=False)\n",
    "\n",
    "# Display the first and last 20 rows\n",
    "print(\"First 20 rows:\")\n",
    "print(sorted_df.head(20))  \n",
    "print(\"\\nLast 20 rows:\")\n",
    "print(sorted_df.tail(20))\n"
   ]
  }
 ],
 "metadata": {
  "kernelspec": {
   "display_name": "Pandas",
   "language": "python",
   "name": "python3"
  },
  "language_info": {
   "codemirror_mode": {
    "name": "ipython",
    "version": 3
   },
   "file_extension": ".py",
   "mimetype": "text/x-python",
   "name": "python",
   "nbconvert_exporter": "python",
   "pygments_lexer": "ipython3",
   "version": "3.9.17"
  },
  "orig_nbformat": 4
 },
 "nbformat": 4,
 "nbformat_minor": 2
}
